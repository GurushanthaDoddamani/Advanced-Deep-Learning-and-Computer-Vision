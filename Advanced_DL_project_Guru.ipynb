{
  "nbformat": 4,
  "nbformat_minor": 0,
  "metadata": {
    "colab": {
      "name": "Advanced DL project Guru.ipynb",
      "provenance": [],
      "collapsed_sections": [],
      "mount_file_id": "1EE3C6o-HVO5Ot790St-1hS-ola30D80f",
      "authorship_tag": "ABX9TyPNhxup9nHsK/a1iJ505uXJ",
      "include_colab_link": true
    },
    "kernelspec": {
      "name": "python3",
      "display_name": "Python 3"
    }
  },
  "cells": [
    {
      "cell_type": "markdown",
      "metadata": {
        "id": "view-in-github",
        "colab_type": "text"
      },
      "source": [
        "<a href=\"https://colab.research.google.com/github/GurushanthaDoddamani/Advanced-Deep-Learning-and-Computer-Vision/blob/main/Advanced_DL_project_Guru.ipynb\" target=\"_parent\"><img src=\"https://colab.research.google.com/assets/colab-badge.svg\" alt=\"Open In Colab\"/></a>"
      ]
    },
    {
      "cell_type": "markdown",
      "metadata": {
        "id": "gQsOQgR2eCQZ"
      },
      "source": [
        "**Advanced Deep Learning and Computer Vision**\n",
        "\n",
        "**PROJECT** : **Perform Facial Recognition with Deep Learning in Keras Using CNN**"
      ]
    },
    {
      "cell_type": "markdown",
      "metadata": {
        "id": "gQmGhDweenk0"
      },
      "source": [
        "Problem Statement:\n",
        "Facial recognition is a biometric alternative that measures unique characteristics of a human\n",
        "face. Applications available today include flight check in, tagging friends and family members in\n",
        "photos, and “tailored” advertising. You are a computer vision engineer who needs to develop a\n",
        "face recognition programme with deep convolutional neural networks.\n",
        "Objective: Use a deep convolutional neural network to perform facial recognition using Keras.\n",
        "Dataset Details:\n",
        "ORL face database composed of 400 images of size 112 x 92. There are 40 people, 10 images\n",
        "per person. The images were taken at different times, lighting and facial expressions. The faces\n",
        "are in an upright position in frontal view, with a slight left-right rotation.\n",
        "Link to the Dataset: https://www.dropbox.com/s/i7uzp5yxk7wruva/ORL_faces.npz?dl=0"
      ]
    },
    {
      "cell_type": "markdown",
      "metadata": {
        "id": "f57Qxhg-gpJk"
      },
      "source": [
        "#**Step1: Input the required libraries**"
      ]
    },
    {
      "cell_type": "code",
      "metadata": {
        "id": "J4_uZBgkG72W"
      },
      "source": [
        "#Step1: Input the required libraries\n",
        "import keras\n",
        "from keras.models import Sequential\n",
        "from keras.layers import Conv2D, MaxPooling2D, Dense, Flatten, Dropout\n",
        "from keras.optimizers import Adam\n",
        "from keras.callbacks import TensorBoard\n",
        "\n",
        "import numpy as np\n",
        "import pandas as pd\n",
        "import matplotlib.pyplot as plt\n",
        "from sklearn.model_selection import train_test_split\n",
        "\n",
        "from sklearn.metrics import confusion_matrix\n",
        "from sklearn.metrics import classification_report\n",
        "from sklearn.metrics import roc_curve, auc\n",
        "from sklearn.metrics import accuracy_score\n",
        "from keras.utils import np_utils\n",
        "import itertools\n",
        "\n",
        "import tensorflow as tf"
      ],
      "execution_count": 1,
      "outputs": []
    },
    {
      "cell_type": "markdown",
      "metadata": {
        "id": "Oj3Vn888g1D9"
      },
      "source": [
        "#**Step2 :  Load the dataset after loading the dataset, you have to normalize every image.**"
      ]
    },
    {
      "cell_type": "code",
      "metadata": {
        "id": "8gOIGk-IKYsS",
        "outputId": "8c7f7cf2-043a-4323-b019-6b7a8e58a7f5",
        "colab": {
          "base_uri": "https://localhost:8080/",
          "height": 595
        }
      },
      "source": [
        "#load dataset\n",
        "from numpy import load\n",
        "\n",
        "data = load('/content/drive/My Drive/Colab Notebooks/Advanced Deep Learning/Advanced Deep Learning Project/ORL_faces.npz')\n",
        "\n",
        "# load the \"Train Images\"\n",
        "x_train = data['trainX']\n",
        "#normalize every image\n",
        "x_train = np.array(x_train,dtype='float32')/255\n",
        "\n",
        "x_test = data['testX']\n",
        "x_test = np.array(x_test,dtype='float32')/255\n",
        "\n",
        "# load the Label of Images\n",
        "y_train= data['trainY']\n",
        "y_test= data['testY']\n",
        "\n",
        "# show the train and test Data format\n",
        "print('x_train : {}'.format(x_train[:]))\n",
        "print('----------------------------------------------------------------------')\n",
        "print('Y-train: {}'.format(y_train))\n",
        "print('----------------------------------------------------------------------')\n",
        "print('x_test: {}'.format(x_test[:]))\n",
        "print('----------------------------------------------------------------------')\n",
        "print('Y-test: {}'.format(y_test))"
      ],
      "execution_count": 5,
      "outputs": [
        {
          "output_type": "stream",
          "text": [
            "x_train : [[0.1882353  0.19215687 0.1764706  ... 0.18431373 0.18039216 0.18039216]\n",
            " [0.23529412 0.23529412 0.24313726 ... 0.1254902  0.13333334 0.13333334]\n",
            " [0.15294118 0.17254902 0.20784314 ... 0.11372549 0.10196079 0.11372549]\n",
            " ...\n",
            " [0.44705883 0.45882353 0.44705883 ... 0.38431373 0.3764706  0.38431373]\n",
            " [0.4117647  0.4117647  0.41960785 ... 0.21176471 0.18431373 0.16078432]\n",
            " [0.45490196 0.44705883 0.45882353 ... 0.37254903 0.39215687 0.39607844]]\n",
            "----------------------------------------------------------------------\n",
            "Y-train: [ 0  0  0  0  0  0  0  0  0  0  0  0  1  1  1  1  1  1  1  1  1  1  1  1\n",
            "  2  2  2  2  2  2  2  2  2  2  2  2  3  3  3  3  3  3  3  3  3  3  3  3\n",
            "  4  4  4  4  4  4  4  4  4  4  4  4  5  5  5  5  5  5  5  5  5  5  5  5\n",
            "  6  6  6  6  6  6  6  6  6  6  6  6  7  7  7  7  7  7  7  7  7  7  7  7\n",
            "  8  8  8  8  8  8  8  8  8  8  8  8  9  9  9  9  9  9  9  9  9  9  9  9\n",
            " 10 10 10 10 10 10 10 10 10 10 10 10 11 11 11 11 11 11 11 11 11 11 11 11\n",
            " 12 12 12 12 12 12 12 12 12 12 12 12 13 13 13 13 13 13 13 13 13 13 13 13\n",
            " 14 14 14 14 14 14 14 14 14 14 14 14 15 15 15 15 15 15 15 15 15 15 15 15\n",
            " 16 16 16 16 16 16 16 16 16 16 16 16 17 17 17 17 17 17 17 17 17 17 17 17\n",
            " 18 18 18 18 18 18 18 18 18 18 18 18 19 19 19 19 19 19 19 19 19 19 19 19]\n",
            "----------------------------------------------------------------------\n",
            "x_test: [[0.16078432 0.18431373 0.18431373 ... 0.13725491 0.14509805 0.14901961]\n",
            " [0.17254902 0.16862746 0.1254902  ... 0.16862746 0.16862746 0.14509805]\n",
            " [0.16470589 0.16078432 0.17254902 ... 0.16470589 0.16862746 0.16078432]\n",
            " ...\n",
            " [0.39607844 0.39215687 0.40392157 ... 0.12156863 0.15686275 0.16470589]\n",
            " [0.4117647  0.42352942 0.41568628 ... 0.17254902 0.15686275 0.18431373]\n",
            " [0.44313726 0.44705883 0.43529412 ... 0.24313726 0.31764707 0.34901962]]\n",
            "----------------------------------------------------------------------\n",
            "Y-test: [ 0  0  0  0  0  0  0  0  1  1  1  1  1  1  1  1  2  2  2  2  2  2  2  2\n",
            "  3  3  3  3  3  3  3  3  4  4  4  4  4  4  4  4  5  5  5  5  5  5  5  5\n",
            "  6  6  6  6  6  6  6  6  7  7  7  7  7  7  7  7  8  8  8  8  8  8  8  8\n",
            "  9  9  9  9  9  9  9  9 10 10 10 10 10 10 10 10 11 11 11 11 11 11 11 11\n",
            " 12 12 12 12 12 12 12 12 13 13 13 13 13 13 13 13 14 14 14 14 14 14 14 14\n",
            " 15 15 15 15 15 15 15 15 16 16 16 16 16 16 16 16 17 17 17 17 17 17 17 17\n",
            " 18 18 18 18 18 18 18 18 19 19 19 19 19 19 19 19]\n"
          ],
          "name": "stdout"
        }
      ]
    },
    {
      "cell_type": "code",
      "metadata": {
        "id": "_wCUJ79ELdZH",
        "outputId": "e8b12fe2-8222-4ab6-d006-659799e54016",
        "colab": {
          "base_uri": "https://localhost:8080/",
          "height": 102
        }
      },
      "source": [
        "print('x_train shape: {}'.format(x_train.shape))\n",
        "print('y_train shape: {}'.format(y_train.shape))\n",
        "print('----------------------------------------------------------------------')\n",
        "print('x_test shape: {}'.format(x_test.shape))\n",
        "print('y_test shape: {}'.format(y_test.shape))"
      ],
      "execution_count": 6,
      "outputs": [
        {
          "output_type": "stream",
          "text": [
            "x_train shape: (240, 10304)\n",
            "y_train shape: (240,)\n",
            "----------------------------------------------------------------------\n",
            "x_test shape: (160, 10304)\n",
            "y_test shape: (160,)\n"
          ],
          "name": "stdout"
        }
      ]
    },
    {
      "cell_type": "markdown",
      "metadata": {
        "id": "-L-zzot8hFdm"
      },
      "source": [
        "#**Step3. Split the dataset**"
      ]
    },
    {
      "cell_type": "code",
      "metadata": {
        "id": "nOBWI6H_KRy1"
      },
      "source": [
        "x_train, x_test, y_train, y_test= train_test_split(\n",
        "    x_train, y_train, test_size=.05, random_state=1234,)"
      ],
      "execution_count": 13,
      "outputs": []
    },
    {
      "cell_type": "markdown",
      "metadata": {
        "id": "2CzQCUtrhaS2"
      },
      "source": [
        "#**Step 4. Transform the images to equal sizes to feed in CNN**"
      ]
    },
    {
      "cell_type": "code",
      "metadata": {
        "id": "onNeLSbUhXwl",
        "outputId": "16663e27-b51e-4ffb-ed65-634d75a7b9c9",
        "colab": {
          "base_uri": "https://localhost:8080/",
          "height": 51
        }
      },
      "source": [
        "im_rows=112\n",
        "im_cols=92\n",
        "batch_size=512\n",
        "im_shape=(im_rows, im_cols, 1)\n",
        "\n",
        "#change the size of images\n",
        "x_train = x_train.reshape(x_train.shape[0], *im_shape)\n",
        "x_test = x_test.reshape(x_test.shape[0], *im_shape)\n",
        "\n",
        "print('x_train shape: {}'.format(y_train.shape[0]))\n",
        "print('x_test shape: {}'.format(y_test.shape))"
      ],
      "execution_count": 14,
      "outputs": [
        {
          "output_type": "stream",
          "text": [
            "x_train shape: 205\n",
            "x_test shape: (11,)\n"
          ],
          "name": "stdout"
        }
      ]
    },
    {
      "cell_type": "markdown",
      "metadata": {
        "id": "hyArjObOipzx"
      },
      "source": [
        "#**Step 5. Build a CNN model that has 3 main layers:**\n",
        "**i. Convolutional Layer**\n",
        "\n",
        "**ii. Pooling Layer**\n",
        "\n",
        "**iii. Fully Connected Layer**"
      ]
    },
    {
      "cell_type": "code",
      "metadata": {
        "id": "39OXME8BiN0d"
      },
      "source": [
        "#filters= the depth of output image or kernels\n",
        "\n",
        "cnn_model= Sequential([\n",
        "    Conv2D(filters=36, kernel_size=7, activation='relu', input_shape= im_shape),\n",
        "    MaxPooling2D(pool_size=2),\n",
        "    Conv2D(filters=54, kernel_size=5, activation='relu', input_shape= im_shape),\n",
        "    MaxPooling2D(pool_size=2),\n",
        "    Flatten(),\n",
        "    Dense(2048, activation='relu'),\n",
        "     Dropout(0.5),\n",
        "    Dense(1024, activation='relu'),\n",
        "    Dropout(0.5),\n",
        "    Dense(512, activation='relu'),\n",
        "    Dropout(0.5),\n",
        "    #20 is the number of outputs\n",
        "    Dense(20, activation='softmax')  \n",
        "])\n",
        "\n",
        "cnn_model.compile(\n",
        "    loss='sparse_categorical_crossentropy',#'categorical_crossentropy',\n",
        "    optimizer=Adam(lr=0.0001),\n",
        "    metrics=['accuracy']\n",
        ")"
      ],
      "execution_count": 15,
      "outputs": []
    },
    {
      "cell_type": "code",
      "metadata": {
        "id": "x6g7z5ncjZLT",
        "outputId": "189779f0-81dd-4197-b94b-ca848f048ef6",
        "colab": {
          "base_uri": "https://localhost:8080/",
          "height": 561
        }
      },
      "source": [
        "#Show the model's parameters.\n",
        "cnn_model.summary()"
      ],
      "execution_count": 16,
      "outputs": [
        {
          "output_type": "stream",
          "text": [
            "Model: \"sequential\"\n",
            "_________________________________________________________________\n",
            "Layer (type)                 Output Shape              Param #   \n",
            "=================================================================\n",
            "conv2d (Conv2D)              (None, 106, 86, 36)       1800      \n",
            "_________________________________________________________________\n",
            "max_pooling2d (MaxPooling2D) (None, 53, 43, 36)        0         \n",
            "_________________________________________________________________\n",
            "conv2d_1 (Conv2D)            (None, 49, 39, 54)        48654     \n",
            "_________________________________________________________________\n",
            "max_pooling2d_1 (MaxPooling2 (None, 24, 19, 54)        0         \n",
            "_________________________________________________________________\n",
            "flatten (Flatten)            (None, 24624)             0         \n",
            "_________________________________________________________________\n",
            "dense (Dense)                (None, 2048)              50432000  \n",
            "_________________________________________________________________\n",
            "dropout (Dropout)            (None, 2048)              0         \n",
            "_________________________________________________________________\n",
            "dense_1 (Dense)              (None, 1024)              2098176   \n",
            "_________________________________________________________________\n",
            "dropout_1 (Dropout)          (None, 1024)              0         \n",
            "_________________________________________________________________\n",
            "dense_2 (Dense)              (None, 512)               524800    \n",
            "_________________________________________________________________\n",
            "dropout_2 (Dropout)          (None, 512)               0         \n",
            "_________________________________________________________________\n",
            "dense_3 (Dense)              (None, 20)                10260     \n",
            "=================================================================\n",
            "Total params: 53,115,690\n",
            "Trainable params: 53,115,690\n",
            "Non-trainable params: 0\n",
            "_________________________________________________________________\n"
          ],
          "name": "stdout"
        }
      ]
    },
    {
      "cell_type": "markdown",
      "metadata": {
        "id": "bBZC8NLijP8e"
      },
      "source": [
        "#**Step 6. Train the model**"
      ]
    },
    {
      "cell_type": "code",
      "metadata": {
        "id": "2n2uioDUjMOO",
        "outputId": "1080592a-dd8c-4fcd-d3df-a576db167d0d",
        "colab": {
          "base_uri": "https://localhost:8080/",
          "height": 1000
        }
      },
      "source": [
        "history=cnn_model.fit(\n",
        "    np.array(x_train), np.array(y_train), batch_size=512,\n",
        "    epochs=250, verbose=2,\n",
        "    validation_data=(np.array(x_test),np.array(y_test)),\n",
        ")"
      ],
      "execution_count": 17,
      "outputs": [
        {
          "output_type": "stream",
          "text": [
            "Epoch 1/250\n",
            "1/1 - 0s - loss: 3.0087 - accuracy: 0.0585 - val_loss: 3.0168 - val_accuracy: 0.0000e+00\n",
            "Epoch 2/250\n",
            "1/1 - 0s - loss: 2.9919 - accuracy: 0.0634 - val_loss: 3.0332 - val_accuracy: 0.0909\n",
            "Epoch 3/250\n",
            "1/1 - 0s - loss: 3.0058 - accuracy: 0.0634 - val_loss: 3.0437 - val_accuracy: 0.0909\n",
            "Epoch 4/250\n",
            "1/1 - 0s - loss: 2.9872 - accuracy: 0.0634 - val_loss: 3.0516 - val_accuracy: 0.0909\n",
            "Epoch 5/250\n",
            "1/1 - 0s - loss: 2.9938 - accuracy: 0.0537 - val_loss: 3.0505 - val_accuracy: 0.0000e+00\n",
            "Epoch 6/250\n",
            "1/1 - 0s - loss: 2.9803 - accuracy: 0.0829 - val_loss: 3.0504 - val_accuracy: 0.0000e+00\n",
            "Epoch 7/250\n",
            "1/1 - 0s - loss: 3.0005 - accuracy: 0.0732 - val_loss: 3.0506 - val_accuracy: 0.0000e+00\n",
            "Epoch 8/250\n",
            "1/1 - 0s - loss: 3.0014 - accuracy: 0.0683 - val_loss: 3.0477 - val_accuracy: 0.0000e+00\n",
            "Epoch 9/250\n",
            "1/1 - 0s - loss: 2.9923 - accuracy: 0.0683 - val_loss: 3.0403 - val_accuracy: 0.0000e+00\n",
            "Epoch 10/250\n",
            "1/1 - 0s - loss: 2.9877 - accuracy: 0.0780 - val_loss: 3.0344 - val_accuracy: 0.0000e+00\n",
            "Epoch 11/250\n",
            "1/1 - 0s - loss: 2.9605 - accuracy: 0.0976 - val_loss: 3.0258 - val_accuracy: 0.0000e+00\n",
            "Epoch 12/250\n",
            "1/1 - 0s - loss: 2.9778 - accuracy: 0.0927 - val_loss: 3.0185 - val_accuracy: 0.0000e+00\n",
            "Epoch 13/250\n",
            "1/1 - 0s - loss: 2.9794 - accuracy: 0.0878 - val_loss: 3.0118 - val_accuracy: 0.0000e+00\n",
            "Epoch 14/250\n",
            "1/1 - 0s - loss: 2.9493 - accuracy: 0.0976 - val_loss: 3.0071 - val_accuracy: 0.0000e+00\n",
            "Epoch 15/250\n",
            "1/1 - 0s - loss: 2.9473 - accuracy: 0.1024 - val_loss: 3.0035 - val_accuracy: 0.0000e+00\n",
            "Epoch 16/250\n",
            "1/1 - 0s - loss: 2.9262 - accuracy: 0.1073 - val_loss: 3.0005 - val_accuracy: 0.0000e+00\n",
            "Epoch 17/250\n",
            "1/1 - 0s - loss: 2.9118 - accuracy: 0.1122 - val_loss: 2.9995 - val_accuracy: 0.0000e+00\n",
            "Epoch 18/250\n",
            "1/1 - 0s - loss: 2.9126 - accuracy: 0.1220 - val_loss: 2.9984 - val_accuracy: 0.0000e+00\n",
            "Epoch 19/250\n",
            "1/1 - 0s - loss: 2.8989 - accuracy: 0.1366 - val_loss: 2.9969 - val_accuracy: 0.0000e+00\n",
            "Epoch 20/250\n",
            "1/1 - 0s - loss: 2.8897 - accuracy: 0.1610 - val_loss: 2.9939 - val_accuracy: 0.0000e+00\n",
            "Epoch 21/250\n",
            "1/1 - 0s - loss: 2.8980 - accuracy: 0.1512 - val_loss: 2.9882 - val_accuracy: 0.0000e+00\n",
            "Epoch 22/250\n",
            "1/1 - 0s - loss: 2.9077 - accuracy: 0.1171 - val_loss: 2.9818 - val_accuracy: 0.0909\n",
            "Epoch 23/250\n",
            "1/1 - 0s - loss: 2.8687 - accuracy: 0.1463 - val_loss: 2.9748 - val_accuracy: 0.0909\n",
            "Epoch 24/250\n",
            "1/1 - 0s - loss: 2.8527 - accuracy: 0.1902 - val_loss: 2.9675 - val_accuracy: 0.0909\n",
            "Epoch 25/250\n",
            "1/1 - 0s - loss: 2.8356 - accuracy: 0.1805 - val_loss: 2.9592 - val_accuracy: 0.0909\n",
            "Epoch 26/250\n",
            "1/1 - 0s - loss: 2.8257 - accuracy: 0.2049 - val_loss: 2.9494 - val_accuracy: 0.0909\n",
            "Epoch 27/250\n",
            "1/1 - 0s - loss: 2.8145 - accuracy: 0.2000 - val_loss: 2.9372 - val_accuracy: 0.1818\n",
            "Epoch 28/250\n",
            "1/1 - 0s - loss: 2.8302 - accuracy: 0.1707 - val_loss: 2.9245 - val_accuracy: 0.1818\n",
            "Epoch 29/250\n",
            "1/1 - 0s - loss: 2.7696 - accuracy: 0.2000 - val_loss: 2.9119 - val_accuracy: 0.1818\n",
            "Epoch 30/250\n",
            "1/1 - 0s - loss: 2.7597 - accuracy: 0.2146 - val_loss: 2.9001 - val_accuracy: 0.2727\n",
            "Epoch 31/250\n",
            "1/1 - 0s - loss: 2.7183 - accuracy: 0.2488 - val_loss: 2.8888 - val_accuracy: 0.2727\n",
            "Epoch 32/250\n",
            "1/1 - 0s - loss: 2.7231 - accuracy: 0.2439 - val_loss: 2.8760 - val_accuracy: 0.2727\n",
            "Epoch 33/250\n",
            "1/1 - 0s - loss: 2.7027 - accuracy: 0.2244 - val_loss: 2.8601 - val_accuracy: 0.2727\n",
            "Epoch 34/250\n",
            "1/1 - 0s - loss: 2.6490 - accuracy: 0.2780 - val_loss: 2.8385 - val_accuracy: 0.1818\n",
            "Epoch 35/250\n",
            "1/1 - 0s - loss: 2.6083 - accuracy: 0.3073 - val_loss: 2.8146 - val_accuracy: 0.1818\n",
            "Epoch 36/250\n",
            "1/1 - 0s - loss: 2.5549 - accuracy: 0.3415 - val_loss: 2.7872 - val_accuracy: 0.2727\n",
            "Epoch 37/250\n",
            "1/1 - 0s - loss: 2.5703 - accuracy: 0.3122 - val_loss: 2.7541 - val_accuracy: 0.2727\n",
            "Epoch 38/250\n",
            "1/1 - 0s - loss: 2.5254 - accuracy: 0.2976 - val_loss: 2.7162 - val_accuracy: 0.3636\n",
            "Epoch 39/250\n",
            "1/1 - 0s - loss: 2.4807 - accuracy: 0.3220 - val_loss: 2.6778 - val_accuracy: 0.3636\n",
            "Epoch 40/250\n",
            "1/1 - 0s - loss: 2.4390 - accuracy: 0.2927 - val_loss: 2.6328 - val_accuracy: 0.3636\n",
            "Epoch 41/250\n",
            "1/1 - 0s - loss: 2.4149 - accuracy: 0.3463 - val_loss: 2.5865 - val_accuracy: 0.4545\n",
            "Epoch 42/250\n",
            "1/1 - 0s - loss: 2.3198 - accuracy: 0.3805 - val_loss: 2.5519 - val_accuracy: 0.4545\n",
            "Epoch 43/250\n",
            "1/1 - 0s - loss: 2.2774 - accuracy: 0.3805 - val_loss: 2.5182 - val_accuracy: 0.4545\n",
            "Epoch 44/250\n",
            "1/1 - 0s - loss: 2.1846 - accuracy: 0.4293 - val_loss: 2.4766 - val_accuracy: 0.4545\n",
            "Epoch 45/250\n",
            "1/1 - 0s - loss: 2.1343 - accuracy: 0.4244 - val_loss: 2.4205 - val_accuracy: 0.5455\n",
            "Epoch 46/250\n",
            "1/1 - 0s - loss: 2.0522 - accuracy: 0.4537 - val_loss: 2.3569 - val_accuracy: 0.5455\n",
            "Epoch 47/250\n",
            "1/1 - 0s - loss: 2.0244 - accuracy: 0.4244 - val_loss: 2.2914 - val_accuracy: 0.5455\n",
            "Epoch 48/250\n",
            "1/1 - 0s - loss: 2.0103 - accuracy: 0.4634 - val_loss: 2.2216 - val_accuracy: 0.5455\n",
            "Epoch 49/250\n",
            "1/1 - 0s - loss: 1.9147 - accuracy: 0.4244 - val_loss: 2.1478 - val_accuracy: 0.5455\n",
            "Epoch 50/250\n",
            "1/1 - 0s - loss: 1.9483 - accuracy: 0.4098 - val_loss: 2.0755 - val_accuracy: 0.5455\n",
            "Epoch 51/250\n",
            "1/1 - 0s - loss: 1.7947 - accuracy: 0.4683 - val_loss: 2.0187 - val_accuracy: 0.5455\n",
            "Epoch 52/250\n",
            "1/1 - 0s - loss: 1.7112 - accuracy: 0.5024 - val_loss: 1.9658 - val_accuracy: 0.5455\n",
            "Epoch 53/250\n",
            "1/1 - 0s - loss: 1.6922 - accuracy: 0.4976 - val_loss: 1.9134 - val_accuracy: 0.5455\n",
            "Epoch 54/250\n",
            "1/1 - 0s - loss: 1.6461 - accuracy: 0.5366 - val_loss: 1.8681 - val_accuracy: 0.5455\n",
            "Epoch 55/250\n",
            "1/1 - 0s - loss: 1.4649 - accuracy: 0.6000 - val_loss: 1.8254 - val_accuracy: 0.4545\n",
            "Epoch 56/250\n",
            "1/1 - 0s - loss: 1.3934 - accuracy: 0.6146 - val_loss: 1.7561 - val_accuracy: 0.5455\n",
            "Epoch 57/250\n",
            "1/1 - 0s - loss: 1.4494 - accuracy: 0.5268 - val_loss: 1.6856 - val_accuracy: 0.6364\n",
            "Epoch 58/250\n",
            "1/1 - 0s - loss: 1.4222 - accuracy: 0.5317 - val_loss: 1.6284 - val_accuracy: 0.5455\n",
            "Epoch 59/250\n",
            "1/1 - 0s - loss: 1.3638 - accuracy: 0.6146 - val_loss: 1.5696 - val_accuracy: 0.5455\n",
            "Epoch 60/250\n",
            "1/1 - 0s - loss: 1.2836 - accuracy: 0.6244 - val_loss: 1.4743 - val_accuracy: 0.6364\n",
            "Epoch 61/250\n",
            "1/1 - 0s - loss: 1.2514 - accuracy: 0.6000 - val_loss: 1.4033 - val_accuracy: 0.6364\n",
            "Epoch 62/250\n",
            "1/1 - 0s - loss: 1.1751 - accuracy: 0.6780 - val_loss: 1.3475 - val_accuracy: 0.6364\n",
            "Epoch 63/250\n",
            "1/1 - 0s - loss: 1.2244 - accuracy: 0.6000 - val_loss: 1.3029 - val_accuracy: 0.6364\n",
            "Epoch 64/250\n",
            "1/1 - 0s - loss: 1.0925 - accuracy: 0.6829 - val_loss: 1.2691 - val_accuracy: 0.6364\n",
            "Epoch 65/250\n",
            "1/1 - 0s - loss: 1.0521 - accuracy: 0.7122 - val_loss: 1.2247 - val_accuracy: 0.6364\n",
            "Epoch 66/250\n",
            "1/1 - 0s - loss: 1.0289 - accuracy: 0.7024 - val_loss: 1.1806 - val_accuracy: 0.6364\n",
            "Epoch 67/250\n",
            "1/1 - 0s - loss: 0.8948 - accuracy: 0.7512 - val_loss: 1.1470 - val_accuracy: 0.6364\n",
            "Epoch 68/250\n",
            "1/1 - 0s - loss: 0.9930 - accuracy: 0.7122 - val_loss: 1.1630 - val_accuracy: 0.6364\n",
            "Epoch 69/250\n",
            "1/1 - 0s - loss: 0.9248 - accuracy: 0.6976 - val_loss: 1.1507 - val_accuracy: 0.5455\n",
            "Epoch 70/250\n",
            "1/1 - 0s - loss: 0.9313 - accuracy: 0.7073 - val_loss: 1.0467 - val_accuracy: 0.6364\n",
            "Epoch 71/250\n",
            "1/1 - 0s - loss: 0.8271 - accuracy: 0.7220 - val_loss: 0.9684 - val_accuracy: 0.6364\n",
            "Epoch 72/250\n",
            "1/1 - 0s - loss: 0.8655 - accuracy: 0.7561 - val_loss: 0.9304 - val_accuracy: 0.6364\n",
            "Epoch 73/250\n",
            "1/1 - 0s - loss: 0.7723 - accuracy: 0.7610 - val_loss: 0.9329 - val_accuracy: 0.6364\n",
            "Epoch 74/250\n",
            "1/1 - 0s - loss: 0.6939 - accuracy: 0.8000 - val_loss: 0.9228 - val_accuracy: 0.6364\n",
            "Epoch 75/250\n",
            "1/1 - 0s - loss: 0.7555 - accuracy: 0.7707 - val_loss: 0.8700 - val_accuracy: 0.6364\n",
            "Epoch 76/250\n",
            "1/1 - 0s - loss: 0.7221 - accuracy: 0.7902 - val_loss: 0.8216 - val_accuracy: 0.6364\n",
            "Epoch 77/250\n",
            "1/1 - 0s - loss: 0.6109 - accuracy: 0.8293 - val_loss: 0.7892 - val_accuracy: 0.6364\n",
            "Epoch 78/250\n",
            "1/1 - 0s - loss: 0.7190 - accuracy: 0.7756 - val_loss: 0.7611 - val_accuracy: 0.6364\n",
            "Epoch 79/250\n",
            "1/1 - 0s - loss: 0.6107 - accuracy: 0.8390 - val_loss: 0.7505 - val_accuracy: 0.6364\n",
            "Epoch 80/250\n",
            "1/1 - 0s - loss: 0.5096 - accuracy: 0.8976 - val_loss: 0.7387 - val_accuracy: 0.6364\n",
            "Epoch 81/250\n",
            "1/1 - 0s - loss: 0.5748 - accuracy: 0.8537 - val_loss: 0.7309 - val_accuracy: 0.6364\n",
            "Epoch 82/250\n",
            "1/1 - 0s - loss: 0.5040 - accuracy: 0.8439 - val_loss: 0.7030 - val_accuracy: 0.7273\n",
            "Epoch 83/250\n",
            "1/1 - 0s - loss: 0.4507 - accuracy: 0.8780 - val_loss: 0.6879 - val_accuracy: 0.8182\n",
            "Epoch 84/250\n",
            "1/1 - 0s - loss: 0.4516 - accuracy: 0.8732 - val_loss: 0.6607 - val_accuracy: 0.8182\n",
            "Epoch 85/250\n",
            "1/1 - 0s - loss: 0.3958 - accuracy: 0.8829 - val_loss: 0.6202 - val_accuracy: 0.7273\n",
            "Epoch 86/250\n",
            "1/1 - 0s - loss: 0.3805 - accuracy: 0.9073 - val_loss: 0.5868 - val_accuracy: 0.7273\n",
            "Epoch 87/250\n",
            "1/1 - 0s - loss: 0.3567 - accuracy: 0.8927 - val_loss: 0.5536 - val_accuracy: 0.8182\n",
            "Epoch 88/250\n",
            "1/1 - 0s - loss: 0.3175 - accuracy: 0.9415 - val_loss: 0.5150 - val_accuracy: 0.8182\n",
            "Epoch 89/250\n",
            "1/1 - 0s - loss: 0.3790 - accuracy: 0.8878 - val_loss: 0.4972 - val_accuracy: 0.8182\n",
            "Epoch 90/250\n",
            "1/1 - 0s - loss: 0.3965 - accuracy: 0.8878 - val_loss: 0.4890 - val_accuracy: 0.7273\n",
            "Epoch 91/250\n",
            "1/1 - 0s - loss: 0.3527 - accuracy: 0.9073 - val_loss: 0.4774 - val_accuracy: 0.8182\n",
            "Epoch 92/250\n",
            "1/1 - 0s - loss: 0.3450 - accuracy: 0.8976 - val_loss: 0.4733 - val_accuracy: 0.8182\n",
            "Epoch 93/250\n",
            "1/1 - 0s - loss: 0.3319 - accuracy: 0.9024 - val_loss: 0.4740 - val_accuracy: 0.8182\n",
            "Epoch 94/250\n",
            "1/1 - 0s - loss: 0.3213 - accuracy: 0.9220 - val_loss: 0.4802 - val_accuracy: 0.8182\n",
            "Epoch 95/250\n",
            "1/1 - 0s - loss: 0.3123 - accuracy: 0.9171 - val_loss: 0.4718 - val_accuracy: 0.8182\n",
            "Epoch 96/250\n",
            "1/1 - 0s - loss: 0.2685 - accuracy: 0.9220 - val_loss: 0.4673 - val_accuracy: 0.8182\n",
            "Epoch 97/250\n",
            "1/1 - 0s - loss: 0.2510 - accuracy: 0.9512 - val_loss: 0.4646 - val_accuracy: 0.8182\n",
            "Epoch 98/250\n",
            "1/1 - 0s - loss: 0.2665 - accuracy: 0.9463 - val_loss: 0.4715 - val_accuracy: 0.8182\n",
            "Epoch 99/250\n",
            "1/1 - 0s - loss: 0.2114 - accuracy: 0.9415 - val_loss: 0.4678 - val_accuracy: 0.8182\n",
            "Epoch 100/250\n",
            "1/1 - 0s - loss: 0.2313 - accuracy: 0.9268 - val_loss: 0.4568 - val_accuracy: 0.8182\n",
            "Epoch 101/250\n",
            "1/1 - 0s - loss: 0.2545 - accuracy: 0.9317 - val_loss: 0.4352 - val_accuracy: 0.8182\n",
            "Epoch 102/250\n",
            "1/1 - 0s - loss: 0.1671 - accuracy: 0.9707 - val_loss: 0.4058 - val_accuracy: 0.9091\n",
            "Epoch 103/250\n",
            "1/1 - 0s - loss: 0.2165 - accuracy: 0.9561 - val_loss: 0.3663 - val_accuracy: 0.9091\n",
            "Epoch 104/250\n",
            "1/1 - 0s - loss: 0.2051 - accuracy: 0.9512 - val_loss: 0.3271 - val_accuracy: 0.9091\n",
            "Epoch 105/250\n",
            "1/1 - 0s - loss: 0.1864 - accuracy: 0.9463 - val_loss: 0.2949 - val_accuracy: 0.9091\n",
            "Epoch 106/250\n",
            "1/1 - 0s - loss: 0.2196 - accuracy: 0.9512 - val_loss: 0.2717 - val_accuracy: 0.9091\n",
            "Epoch 107/250\n",
            "1/1 - 0s - loss: 0.1633 - accuracy: 0.9561 - val_loss: 0.2684 - val_accuracy: 0.9091\n",
            "Epoch 108/250\n",
            "1/1 - 0s - loss: 0.1860 - accuracy: 0.9561 - val_loss: 0.2814 - val_accuracy: 0.9091\n",
            "Epoch 109/250\n",
            "1/1 - 0s - loss: 0.1431 - accuracy: 0.9707 - val_loss: 0.2933 - val_accuracy: 0.9091\n",
            "Epoch 110/250\n",
            "1/1 - 0s - loss: 0.1637 - accuracy: 0.9610 - val_loss: 0.3082 - val_accuracy: 0.9091\n",
            "Epoch 111/250\n",
            "1/1 - 0s - loss: 0.1455 - accuracy: 0.9610 - val_loss: 0.3163 - val_accuracy: 0.9091\n",
            "Epoch 112/250\n",
            "1/1 - 0s - loss: 0.1361 - accuracy: 0.9561 - val_loss: 0.3127 - val_accuracy: 0.9091\n",
            "Epoch 113/250\n",
            "1/1 - 0s - loss: 0.1283 - accuracy: 0.9707 - val_loss: 0.3023 - val_accuracy: 0.9091\n",
            "Epoch 114/250\n",
            "1/1 - 0s - loss: 0.1403 - accuracy: 0.9463 - val_loss: 0.3011 - val_accuracy: 0.9091\n",
            "Epoch 115/250\n",
            "1/1 - 0s - loss: 0.1079 - accuracy: 0.9756 - val_loss: 0.3033 - val_accuracy: 0.9091\n",
            "Epoch 116/250\n",
            "1/1 - 0s - loss: 0.1263 - accuracy: 0.9805 - val_loss: 0.3079 - val_accuracy: 0.8182\n",
            "Epoch 117/250\n",
            "1/1 - 0s - loss: 0.0994 - accuracy: 0.9854 - val_loss: 0.3187 - val_accuracy: 0.8182\n",
            "Epoch 118/250\n",
            "1/1 - 0s - loss: 0.0922 - accuracy: 0.9805 - val_loss: 0.3299 - val_accuracy: 0.8182\n",
            "Epoch 119/250\n",
            "1/1 - 0s - loss: 0.1454 - accuracy: 0.9366 - val_loss: 0.3078 - val_accuracy: 0.8182\n",
            "Epoch 120/250\n",
            "1/1 - 0s - loss: 0.1120 - accuracy: 0.9707 - val_loss: 0.2839 - val_accuracy: 0.8182\n",
            "Epoch 121/250\n",
            "1/1 - 0s - loss: 0.1008 - accuracy: 0.9707 - val_loss: 0.2649 - val_accuracy: 0.9091\n",
            "Epoch 122/250\n",
            "1/1 - 0s - loss: 0.1179 - accuracy: 0.9756 - val_loss: 0.2459 - val_accuracy: 0.9091\n",
            "Epoch 123/250\n",
            "1/1 - 0s - loss: 0.0868 - accuracy: 0.9805 - val_loss: 0.2400 - val_accuracy: 0.9091\n",
            "Epoch 124/250\n",
            "1/1 - 0s - loss: 0.0908 - accuracy: 0.9805 - val_loss: 0.2471 - val_accuracy: 0.9091\n",
            "Epoch 125/250\n",
            "1/1 - 0s - loss: 0.1008 - accuracy: 0.9805 - val_loss: 0.2658 - val_accuracy: 0.9091\n",
            "Epoch 126/250\n",
            "1/1 - 0s - loss: 0.0969 - accuracy: 0.9854 - val_loss: 0.2814 - val_accuracy: 0.9091\n",
            "Epoch 127/250\n",
            "1/1 - 0s - loss: 0.0791 - accuracy: 0.9902 - val_loss: 0.2856 - val_accuracy: 0.9091\n",
            "Epoch 128/250\n",
            "1/1 - 0s - loss: 0.1039 - accuracy: 0.9756 - val_loss: 0.2721 - val_accuracy: 0.9091\n",
            "Epoch 129/250\n",
            "1/1 - 0s - loss: 0.0647 - accuracy: 0.9854 - val_loss: 0.2390 - val_accuracy: 0.9091\n",
            "Epoch 130/250\n",
            "1/1 - 0s - loss: 0.0674 - accuracy: 0.9854 - val_loss: 0.2059 - val_accuracy: 0.9091\n",
            "Epoch 131/250\n",
            "1/1 - 0s - loss: 0.0646 - accuracy: 1.0000 - val_loss: 0.1882 - val_accuracy: 0.9091\n",
            "Epoch 132/250\n",
            "1/1 - 0s - loss: 0.0722 - accuracy: 0.9902 - val_loss: 0.1780 - val_accuracy: 0.9091\n",
            "Epoch 133/250\n",
            "1/1 - 0s - loss: 0.1020 - accuracy: 0.9854 - val_loss: 0.1715 - val_accuracy: 0.9091\n",
            "Epoch 134/250\n",
            "1/1 - 0s - loss: 0.0425 - accuracy: 1.0000 - val_loss: 0.1698 - val_accuracy: 0.9091\n",
            "Epoch 135/250\n",
            "1/1 - 0s - loss: 0.0621 - accuracy: 0.9902 - val_loss: 0.1725 - val_accuracy: 0.9091\n",
            "Epoch 136/250\n",
            "1/1 - 0s - loss: 0.0649 - accuracy: 0.9902 - val_loss: 0.1787 - val_accuracy: 0.9091\n",
            "Epoch 137/250\n",
            "1/1 - 0s - loss: 0.0569 - accuracy: 0.9902 - val_loss: 0.1770 - val_accuracy: 0.9091\n",
            "Epoch 138/250\n",
            "1/1 - 0s - loss: 0.0484 - accuracy: 0.9902 - val_loss: 0.1765 - val_accuracy: 0.9091\n",
            "Epoch 139/250\n",
            "1/1 - 0s - loss: 0.0437 - accuracy: 0.9951 - val_loss: 0.1717 - val_accuracy: 0.9091\n",
            "Epoch 140/250\n",
            "1/1 - 0s - loss: 0.0607 - accuracy: 0.9854 - val_loss: 0.1698 - val_accuracy: 0.9091\n",
            "Epoch 141/250\n",
            "1/1 - 0s - loss: 0.0560 - accuracy: 0.9805 - val_loss: 0.1578 - val_accuracy: 0.9091\n",
            "Epoch 142/250\n",
            "1/1 - 0s - loss: 0.0586 - accuracy: 0.9902 - val_loss: 0.1551 - val_accuracy: 0.9091\n",
            "Epoch 143/250\n",
            "1/1 - 0s - loss: 0.0457 - accuracy: 1.0000 - val_loss: 0.1551 - val_accuracy: 0.9091\n",
            "Epoch 144/250\n",
            "1/1 - 0s - loss: 0.0533 - accuracy: 0.9854 - val_loss: 0.1551 - val_accuracy: 0.9091\n",
            "Epoch 145/250\n",
            "1/1 - 0s - loss: 0.0586 - accuracy: 0.9805 - val_loss: 0.1669 - val_accuracy: 0.9091\n",
            "Epoch 146/250\n",
            "1/1 - 0s - loss: 0.0523 - accuracy: 0.9902 - val_loss: 0.1887 - val_accuracy: 0.9091\n",
            "Epoch 147/250\n",
            "1/1 - 0s - loss: 0.0559 - accuracy: 0.9805 - val_loss: 0.2025 - val_accuracy: 0.9091\n",
            "Epoch 148/250\n",
            "1/1 - 0s - loss: 0.0452 - accuracy: 0.9951 - val_loss: 0.2127 - val_accuracy: 0.9091\n",
            "Epoch 149/250\n",
            "1/1 - 0s - loss: 0.0550 - accuracy: 0.9902 - val_loss: 0.2167 - val_accuracy: 0.9091\n",
            "Epoch 150/250\n",
            "1/1 - 0s - loss: 0.0401 - accuracy: 0.9902 - val_loss: 0.2109 - val_accuracy: 0.9091\n",
            "Epoch 151/250\n",
            "1/1 - 0s - loss: 0.0381 - accuracy: 1.0000 - val_loss: 0.2011 - val_accuracy: 0.9091\n",
            "Epoch 152/250\n",
            "1/1 - 0s - loss: 0.0379 - accuracy: 0.9902 - val_loss: 0.1928 - val_accuracy: 0.9091\n",
            "Epoch 153/250\n",
            "1/1 - 0s - loss: 0.0362 - accuracy: 1.0000 - val_loss: 0.1900 - val_accuracy: 0.9091\n",
            "Epoch 154/250\n",
            "1/1 - 0s - loss: 0.0448 - accuracy: 0.9854 - val_loss: 0.1901 - val_accuracy: 0.9091\n",
            "Epoch 155/250\n",
            "1/1 - 0s - loss: 0.0395 - accuracy: 0.9951 - val_loss: 0.1919 - val_accuracy: 0.9091\n",
            "Epoch 156/250\n",
            "1/1 - 0s - loss: 0.0438 - accuracy: 0.9951 - val_loss: 0.1944 - val_accuracy: 0.9091\n",
            "Epoch 157/250\n",
            "1/1 - 0s - loss: 0.0398 - accuracy: 0.9951 - val_loss: 0.2011 - val_accuracy: 0.9091\n",
            "Epoch 158/250\n",
            "1/1 - 0s - loss: 0.0363 - accuracy: 0.9902 - val_loss: 0.2024 - val_accuracy: 0.9091\n",
            "Epoch 159/250\n",
            "1/1 - 0s - loss: 0.0388 - accuracy: 0.9902 - val_loss: 0.1990 - val_accuracy: 0.9091\n",
            "Epoch 160/250\n",
            "1/1 - 0s - loss: 0.0424 - accuracy: 0.9951 - val_loss: 0.2044 - val_accuracy: 0.9091\n",
            "Epoch 161/250\n",
            "1/1 - 0s - loss: 0.0264 - accuracy: 0.9951 - val_loss: 0.2005 - val_accuracy: 0.9091\n",
            "Epoch 162/250\n",
            "1/1 - 0s - loss: 0.0224 - accuracy: 1.0000 - val_loss: 0.1938 - val_accuracy: 0.9091\n",
            "Epoch 163/250\n",
            "1/1 - 0s - loss: 0.0429 - accuracy: 0.9951 - val_loss: 0.1855 - val_accuracy: 0.9091\n",
            "Epoch 164/250\n",
            "1/1 - 0s - loss: 0.0389 - accuracy: 0.9951 - val_loss: 0.1710 - val_accuracy: 0.9091\n",
            "Epoch 165/250\n",
            "1/1 - 0s - loss: 0.0315 - accuracy: 1.0000 - val_loss: 0.1579 - val_accuracy: 0.9091\n",
            "Epoch 166/250\n",
            "1/1 - 0s - loss: 0.0450 - accuracy: 0.9902 - val_loss: 0.1437 - val_accuracy: 0.9091\n",
            "Epoch 167/250\n",
            "1/1 - 0s - loss: 0.0308 - accuracy: 0.9951 - val_loss: 0.1303 - val_accuracy: 0.9091\n",
            "Epoch 168/250\n",
            "1/1 - 0s - loss: 0.0339 - accuracy: 0.9951 - val_loss: 0.1223 - val_accuracy: 1.0000\n",
            "Epoch 169/250\n",
            "1/1 - 0s - loss: 0.0297 - accuracy: 0.9902 - val_loss: 0.1168 - val_accuracy: 1.0000\n",
            "Epoch 170/250\n",
            "1/1 - 0s - loss: 0.0286 - accuracy: 0.9951 - val_loss: 0.1090 - val_accuracy: 1.0000\n",
            "Epoch 171/250\n",
            "1/1 - 0s - loss: 0.0276 - accuracy: 0.9902 - val_loss: 0.1035 - val_accuracy: 1.0000\n",
            "Epoch 172/250\n",
            "1/1 - 0s - loss: 0.0264 - accuracy: 0.9951 - val_loss: 0.1022 - val_accuracy: 1.0000\n",
            "Epoch 173/250\n",
            "1/1 - 0s - loss: 0.0228 - accuracy: 1.0000 - val_loss: 0.1009 - val_accuracy: 1.0000\n",
            "Epoch 174/250\n",
            "1/1 - 0s - loss: 0.0322 - accuracy: 0.9951 - val_loss: 0.0972 - val_accuracy: 1.0000\n",
            "Epoch 175/250\n",
            "1/1 - 0s - loss: 0.0390 - accuracy: 0.9854 - val_loss: 0.1076 - val_accuracy: 1.0000\n",
            "Epoch 176/250\n",
            "1/1 - 0s - loss: 0.0220 - accuracy: 0.9951 - val_loss: 0.1195 - val_accuracy: 0.9091\n",
            "Epoch 177/250\n",
            "1/1 - 0s - loss: 0.0355 - accuracy: 0.9951 - val_loss: 0.1314 - val_accuracy: 0.9091\n",
            "Epoch 178/250\n",
            "1/1 - 0s - loss: 0.0263 - accuracy: 0.9951 - val_loss: 0.1622 - val_accuracy: 0.9091\n",
            "Epoch 179/250\n",
            "1/1 - 0s - loss: 0.0214 - accuracy: 1.0000 - val_loss: 0.1924 - val_accuracy: 0.9091\n",
            "Epoch 180/250\n",
            "1/1 - 0s - loss: 0.0163 - accuracy: 1.0000 - val_loss: 0.2152 - val_accuracy: 0.9091\n",
            "Epoch 181/250\n",
            "1/1 - 0s - loss: 0.0209 - accuracy: 1.0000 - val_loss: 0.2278 - val_accuracy: 0.9091\n",
            "Epoch 182/250\n",
            "1/1 - 0s - loss: 0.0368 - accuracy: 0.9902 - val_loss: 0.2373 - val_accuracy: 0.9091\n",
            "Epoch 183/250\n",
            "1/1 - 0s - loss: 0.0312 - accuracy: 0.9951 - val_loss: 0.2485 - val_accuracy: 0.9091\n",
            "Epoch 184/250\n",
            "1/1 - 0s - loss: 0.0346 - accuracy: 0.9951 - val_loss: 0.2563 - val_accuracy: 0.9091\n",
            "Epoch 185/250\n",
            "1/1 - 0s - loss: 0.0304 - accuracy: 1.0000 - val_loss: 0.2567 - val_accuracy: 0.9091\n",
            "Epoch 186/250\n",
            "1/1 - 0s - loss: 0.0245 - accuracy: 0.9902 - val_loss: 0.2653 - val_accuracy: 0.9091\n",
            "Epoch 187/250\n",
            "1/1 - 0s - loss: 0.0246 - accuracy: 1.0000 - val_loss: 0.2701 - val_accuracy: 0.9091\n",
            "Epoch 188/250\n",
            "1/1 - 0s - loss: 0.0269 - accuracy: 0.9902 - val_loss: 0.2761 - val_accuracy: 0.9091\n",
            "Epoch 189/250\n",
            "1/1 - 0s - loss: 0.0340 - accuracy: 0.9805 - val_loss: 0.2895 - val_accuracy: 0.9091\n",
            "Epoch 190/250\n",
            "1/1 - 0s - loss: 0.0213 - accuracy: 1.0000 - val_loss: 0.2919 - val_accuracy: 0.9091\n",
            "Epoch 191/250\n",
            "1/1 - 0s - loss: 0.0171 - accuracy: 1.0000 - val_loss: 0.2888 - val_accuracy: 0.9091\n",
            "Epoch 192/250\n",
            "1/1 - 0s - loss: 0.0145 - accuracy: 1.0000 - val_loss: 0.2891 - val_accuracy: 0.9091\n",
            "Epoch 193/250\n",
            "1/1 - 0s - loss: 0.0148 - accuracy: 1.0000 - val_loss: 0.2909 - val_accuracy: 0.9091\n",
            "Epoch 194/250\n",
            "1/1 - 0s - loss: 0.0234 - accuracy: 0.9951 - val_loss: 0.2917 - val_accuracy: 0.9091\n",
            "Epoch 195/250\n",
            "1/1 - 0s - loss: 0.0189 - accuracy: 1.0000 - val_loss: 0.2929 - val_accuracy: 0.9091\n",
            "Epoch 196/250\n",
            "1/1 - 0s - loss: 0.0163 - accuracy: 1.0000 - val_loss: 0.3020 - val_accuracy: 0.9091\n",
            "Epoch 197/250\n",
            "1/1 - 0s - loss: 0.0291 - accuracy: 0.9902 - val_loss: 0.3141 - val_accuracy: 0.9091\n",
            "Epoch 198/250\n",
            "1/1 - 0s - loss: 0.0139 - accuracy: 1.0000 - val_loss: 0.3207 - val_accuracy: 0.9091\n",
            "Epoch 199/250\n",
            "1/1 - 0s - loss: 0.0171 - accuracy: 1.0000 - val_loss: 0.3177 - val_accuracy: 0.9091\n",
            "Epoch 200/250\n",
            "1/1 - 0s - loss: 0.0279 - accuracy: 0.9951 - val_loss: 0.2844 - val_accuracy: 0.9091\n",
            "Epoch 201/250\n",
            "1/1 - 0s - loss: 0.0204 - accuracy: 0.9902 - val_loss: 0.2387 - val_accuracy: 0.9091\n",
            "Epoch 202/250\n",
            "1/1 - 0s - loss: 0.0081 - accuracy: 1.0000 - val_loss: 0.1979 - val_accuracy: 0.9091\n",
            "Epoch 203/250\n",
            "1/1 - 0s - loss: 0.0207 - accuracy: 1.0000 - val_loss: 0.1711 - val_accuracy: 0.9091\n",
            "Epoch 204/250\n",
            "1/1 - 0s - loss: 0.0186 - accuracy: 1.0000 - val_loss: 0.1552 - val_accuracy: 0.9091\n",
            "Epoch 205/250\n",
            "1/1 - 0s - loss: 0.0258 - accuracy: 0.9902 - val_loss: 0.1385 - val_accuracy: 0.9091\n",
            "Epoch 206/250\n",
            "1/1 - 0s - loss: 0.0237 - accuracy: 0.9951 - val_loss: 0.1249 - val_accuracy: 0.9091\n",
            "Epoch 207/250\n",
            "1/1 - 0s - loss: 0.0221 - accuracy: 1.0000 - val_loss: 0.1116 - val_accuracy: 0.9091\n",
            "Epoch 208/250\n",
            "1/1 - 0s - loss: 0.0157 - accuracy: 1.0000 - val_loss: 0.1049 - val_accuracy: 0.9091\n",
            "Epoch 209/250\n",
            "1/1 - 0s - loss: 0.0172 - accuracy: 0.9951 - val_loss: 0.1004 - val_accuracy: 0.9091\n",
            "Epoch 210/250\n",
            "1/1 - 0s - loss: 0.0150 - accuracy: 1.0000 - val_loss: 0.0962 - val_accuracy: 0.9091\n",
            "Epoch 211/250\n",
            "1/1 - 0s - loss: 0.0123 - accuracy: 1.0000 - val_loss: 0.0941 - val_accuracy: 0.9091\n",
            "Epoch 212/250\n",
            "1/1 - 0s - loss: 0.0144 - accuracy: 1.0000 - val_loss: 0.0910 - val_accuracy: 0.9091\n",
            "Epoch 213/250\n",
            "1/1 - 0s - loss: 0.0098 - accuracy: 1.0000 - val_loss: 0.0915 - val_accuracy: 0.9091\n",
            "Epoch 214/250\n",
            "1/1 - 0s - loss: 0.0111 - accuracy: 1.0000 - val_loss: 0.0905 - val_accuracy: 0.9091\n",
            "Epoch 215/250\n",
            "1/1 - 0s - loss: 0.0443 - accuracy: 0.9854 - val_loss: 0.0813 - val_accuracy: 1.0000\n",
            "Epoch 216/250\n",
            "1/1 - 0s - loss: 0.0092 - accuracy: 1.0000 - val_loss: 0.0721 - val_accuracy: 1.0000\n",
            "Epoch 217/250\n",
            "1/1 - 0s - loss: 0.0128 - accuracy: 1.0000 - val_loss: 0.0675 - val_accuracy: 1.0000\n",
            "Epoch 218/250\n",
            "1/1 - 0s - loss: 0.0393 - accuracy: 0.9805 - val_loss: 0.0644 - val_accuracy: 1.0000\n",
            "Epoch 219/250\n",
            "1/1 - 0s - loss: 0.0213 - accuracy: 0.9951 - val_loss: 0.0645 - val_accuracy: 1.0000\n",
            "Epoch 220/250\n",
            "1/1 - 0s - loss: 0.0320 - accuracy: 0.9902 - val_loss: 0.0663 - val_accuracy: 1.0000\n",
            "Epoch 221/250\n",
            "1/1 - 0s - loss: 0.0123 - accuracy: 1.0000 - val_loss: 0.0682 - val_accuracy: 1.0000\n",
            "Epoch 222/250\n",
            "1/1 - 0s - loss: 0.0170 - accuracy: 0.9951 - val_loss: 0.0756 - val_accuracy: 1.0000\n",
            "Epoch 223/250\n",
            "1/1 - 0s - loss: 0.0103 - accuracy: 1.0000 - val_loss: 0.0854 - val_accuracy: 0.9091\n",
            "Epoch 224/250\n",
            "1/1 - 0s - loss: 0.0188 - accuracy: 0.9951 - val_loss: 0.0972 - val_accuracy: 0.9091\n",
            "Epoch 225/250\n",
            "1/1 - 0s - loss: 0.0144 - accuracy: 0.9951 - val_loss: 0.1140 - val_accuracy: 0.9091\n",
            "Epoch 226/250\n",
            "1/1 - 0s - loss: 0.0104 - accuracy: 1.0000 - val_loss: 0.1317 - val_accuracy: 0.9091\n",
            "Epoch 227/250\n",
            "1/1 - 0s - loss: 0.0101 - accuracy: 1.0000 - val_loss: 0.1517 - val_accuracy: 0.9091\n",
            "Epoch 228/250\n",
            "1/1 - 0s - loss: 0.0187 - accuracy: 0.9951 - val_loss: 0.1761 - val_accuracy: 0.9091\n",
            "Epoch 229/250\n",
            "1/1 - 0s - loss: 0.0200 - accuracy: 0.9902 - val_loss: 0.2040 - val_accuracy: 0.9091\n",
            "Epoch 230/250\n",
            "1/1 - 0s - loss: 0.0093 - accuracy: 1.0000 - val_loss: 0.2272 - val_accuracy: 0.9091\n",
            "Epoch 231/250\n",
            "1/1 - 0s - loss: 0.0158 - accuracy: 1.0000 - val_loss: 0.2477 - val_accuracy: 0.9091\n",
            "Epoch 232/250\n",
            "1/1 - 0s - loss: 0.0139 - accuracy: 1.0000 - val_loss: 0.2607 - val_accuracy: 0.9091\n",
            "Epoch 233/250\n",
            "1/1 - 0s - loss: 0.0099 - accuracy: 1.0000 - val_loss: 0.2727 - val_accuracy: 0.9091\n",
            "Epoch 234/250\n",
            "1/1 - 0s - loss: 0.0091 - accuracy: 1.0000 - val_loss: 0.2804 - val_accuracy: 0.9091\n",
            "Epoch 235/250\n",
            "1/1 - 0s - loss: 0.0092 - accuracy: 1.0000 - val_loss: 0.2877 - val_accuracy: 0.9091\n",
            "Epoch 236/250\n",
            "1/1 - 0s - loss: 0.0170 - accuracy: 1.0000 - val_loss: 0.2893 - val_accuracy: 0.9091\n",
            "Epoch 237/250\n",
            "1/1 - 0s - loss: 0.0116 - accuracy: 0.9951 - val_loss: 0.2882 - val_accuracy: 0.9091\n",
            "Epoch 238/250\n",
            "1/1 - 0s - loss: 0.0136 - accuracy: 1.0000 - val_loss: 0.2804 - val_accuracy: 0.9091\n",
            "Epoch 239/250\n",
            "1/1 - 0s - loss: 0.0110 - accuracy: 1.0000 - val_loss: 0.2681 - val_accuracy: 0.9091\n",
            "Epoch 240/250\n",
            "1/1 - 0s - loss: 0.0134 - accuracy: 1.0000 - val_loss: 0.2466 - val_accuracy: 0.9091\n",
            "Epoch 241/250\n",
            "1/1 - 0s - loss: 0.0189 - accuracy: 0.9951 - val_loss: 0.2311 - val_accuracy: 0.9091\n",
            "Epoch 242/250\n",
            "1/1 - 0s - loss: 0.0081 - accuracy: 1.0000 - val_loss: 0.2128 - val_accuracy: 0.9091\n",
            "Epoch 243/250\n",
            "1/1 - 0s - loss: 0.0090 - accuracy: 1.0000 - val_loss: 0.1956 - val_accuracy: 0.9091\n",
            "Epoch 244/250\n",
            "1/1 - 0s - loss: 0.0069 - accuracy: 1.0000 - val_loss: 0.1781 - val_accuracy: 0.9091\n",
            "Epoch 245/250\n",
            "1/1 - 0s - loss: 0.0140 - accuracy: 1.0000 - val_loss: 0.1693 - val_accuracy: 0.9091\n",
            "Epoch 246/250\n",
            "1/1 - 0s - loss: 0.0212 - accuracy: 0.9951 - val_loss: 0.1581 - val_accuracy: 0.9091\n",
            "Epoch 247/250\n",
            "1/1 - 0s - loss: 0.0131 - accuracy: 0.9951 - val_loss: 0.1527 - val_accuracy: 0.9091\n",
            "Epoch 248/250\n",
            "1/1 - 0s - loss: 0.0052 - accuracy: 1.0000 - val_loss: 0.1476 - val_accuracy: 0.9091\n",
            "Epoch 249/250\n",
            "1/1 - 0s - loss: 0.0079 - accuracy: 1.0000 - val_loss: 0.1433 - val_accuracy: 0.9091\n",
            "Epoch 250/250\n",
            "1/1 - 0s - loss: 0.0104 - accuracy: 1.0000 - val_loss: 0.1383 - val_accuracy: 0.9091\n"
          ],
          "name": "stdout"
        }
      ]
    },
    {
      "cell_type": "markdown",
      "metadata": {
        "id": "R9b1wW5jjoOF"
      },
      "source": [
        "#**Step 7. Plot the result**"
      ]
    },
    {
      "cell_type": "code",
      "metadata": {
        "id": "Eo1AbyACjktZ",
        "outputId": "d3b4cf18-fe3c-43d6-e20b-95f0fdae0eba",
        "colab": {
          "base_uri": "https://localhost:8080/",
          "height": 590
        }
      },
      "source": [
        "# list all data in history\n",
        "print(history.history.keys())\n",
        "# summarize history for accuracy\n",
        "plt.plot(history.history['accuracy'])\n",
        "plt.plot(history.history['val_accuracy'])\n",
        "plt.title('model accuracy')\n",
        "plt.ylabel('accuracy')\n",
        "plt.xlabel('epoch')\n",
        "plt.legend(['train', 'test'], loc='upper left')\n",
        "plt.show()\n",
        "\n",
        "# summarize history for loss\n",
        "plt.plot(history.history['loss'])\n",
        "plt.plot(history.history['val_loss'])\n",
        "plt.title('model loss')\n",
        "plt.ylabel('loss')\n",
        "plt.xlabel('epoch')\n",
        "plt.legend(['train', 'test'], loc='upper left')\n",
        "plt.show()"
      ],
      "execution_count": 19,
      "outputs": [
        {
          "output_type": "stream",
          "text": [
            "dict_keys(['loss', 'accuracy', 'val_loss', 'val_accuracy'])\n"
          ],
          "name": "stdout"
        },
        {
          "output_type": "display_data",
          "data": {
            "image/png": "[encoded data removed]",
            "text/plain": [
              "<Figure size 432x288 with 1 Axes>"
            ]
          },
          "metadata": {
            "tags": [],
            "needs_background": "light"
          }
        },
        {
          "output_type": "display_data",
          "data": {
            "image/png": "[encoded data removed]",
            "text/plain": [
              "<Figure size 432x288 with 1 Axes>"
            ]
          },
          "metadata": {
            "tags": [],
            "needs_background": "light"
          }
        }
      ]
    },
    {
      "cell_type": "markdown",
      "metadata": {
        "id": "6neI1vW5kIMs"
      },
      "source": [
        "#**Step 8. Iterate the model until the accuracy is above 90%**"
      ]
    },
    {
      "cell_type": "code",
      "metadata": {
        "id": "hB2FuLdukRCJ",
        "outputId": "d2e07e2b-80cd-467a-82c2-efd19a2b3b8d",
        "colab": {
          "base_uri": "https://localhost:8080/",
          "height": 51
        }
      },
      "source": [
        "scor = cnn_model.evaluate( np.array(x_test),  np.array(y_test), verbose=0)\n",
        "print('test los {:.4f}'.format(scor[0]))\n",
        "print('test acc {:.4f}'.format(scor[1]))"
      ],
      "execution_count": 20,
      "outputs": [
        {
          "output_type": "stream",
          "text": [
            "test los 0.1383\n",
            "test acc 0.9091\n"
          ],
          "name": "stdout"
        }
      ]
    },
    {
      "cell_type": "markdown",
      "metadata": {
        "id": "9hY8416ErB24"
      },
      "source": [
        "#**Successfully reached the Accuracy to 90%**"
      ]
    },
    {
      "cell_type": "code",
      "metadata": {
        "id": "3rAxzfBUrNjm"
      },
      "source": [
        ""
      ],
      "execution_count": null,
      "outputs": []
    }
  ]
}